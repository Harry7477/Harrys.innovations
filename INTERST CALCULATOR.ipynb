{
  "nbformat": 4,
  "nbformat_minor": 0,
  "metadata": {
    "colab": {
      "provenance": [],
      "authorship_tag": "ABX9TyMvOnsWAOMCyTETlLNRC/Vm",
      "include_colab_link": true
    },
    "kernelspec": {
      "name": "python3",
      "display_name": "Python 3"
    },
    "language_info": {
      "name": "python"
    }
  },
  "cells": [
    {
      "cell_type": "markdown",
      "metadata": {
        "id": "view-in-github",
        "colab_type": "text"
      },
      "source": [
        "<a href=\"https://colab.research.google.com/github/Harry7477/Harrys.innovations/blob/main/INTERST%20CALCULATOR.ipynb\" target=\"_parent\"><img src=\"https://colab.research.google.com/assets/colab-badge.svg\" alt=\"Open In Colab\"/></a>"
      ]
    },
    {
      "cell_type": "code",
      "execution_count": 17,
      "metadata": {
        "colab": {
          "base_uri": "https://localhost:8080/"
        },
        "id": "iLiwsBTfckOj",
        "outputId": "2a7b6e32-286b-444d-c142-6dd2a9d92a79"
      },
      "outputs": [
        {
          "output_type": "stream",
          "name": "stdout",
          "text": [
            "314.2857142857143\n"
          ]
        }
      ],
      "source": [
        "pi = 22/7\n",
        "r = 10\n",
        "full = pi * (r*r)\n",
        "print (full)"
      ]
    },
    {
      "cell_type": "code",
      "source": [],
      "metadata": {
        "id": "8NdNok9riRB2"
      },
      "execution_count": null,
      "outputs": []
    },
    {
      "cell_type": "code",
      "source": [
        "pi = 22/7\n",
        "r = 10\n",
        "peramiter = 2* (pi*r)\n",
        "print(peramiter)"
      ],
      "metadata": {
        "colab": {
          "base_uri": "https://localhost:8080/"
        },
        "id": "WPzBByB8guoN",
        "outputId": "ac7f1c00-7c13-4cb8-bb96-453a39892778"
      },
      "execution_count": 16,
      "outputs": [
        {
          "output_type": "stream",
          "name": "stdout",
          "text": [
            "62.857142857142854\n"
          ]
        }
      ]
    },
    {
      "cell_type": "code",
      "source": [],
      "metadata": {
        "id": "xFpiM_VdpkE6"
      },
      "execution_count": null,
      "outputs": []
    },
    {
      "cell_type": "code",
      "source": [
        "Principal = 5000\n",
        "time = 1\n",
        "interst = 5\n",
        "#calculate interest\n",
        "calinterst= time* (interst*Principal/100)\n",
        "grandtotal = Principal+calinterst\n",
        "print(f\"your principal amount is {Principal}\")\n",
        "print(f\"your monthly interst is {interst}\")\n",
        "print(f\"total duration (in months)=  {time}\")\n",
        "print(f\"interst is {calinterst}\")\n",
        "print(f\"your total amount = {grandtotal}\")"
      ],
      "metadata": {
        "colab": {
          "base_uri": "https://localhost:8080/"
        },
        "id": "ZZSDWKGShmIG",
        "outputId": "44dad7f1-b9c6-4b0e-edc5-6e42735e1fa6"
      },
      "execution_count": 32,
      "outputs": [
        {
          "output_type": "stream",
          "name": "stdout",
          "text": [
            "your principal amount is 5000\n",
            "your monthly interst is 5\n",
            "total duration (in months)=  1\n",
            "interst is 250.0\n",
            "your total amount = 5250.0\n"
          ]
        }
      ]
    },
    {
      "cell_type": "code",
      "source": [
        "principal= int(input(\"Enter the Principal amount = \"))\n",
        "print(\"calculate intest\")\n",
        "year= int(input(\"enter year = \"))\n",
        "month= int(input(\"enter month = \"))\n",
        "days = int(input(\"enter days = \"))\n",
        "interst = float(input(\"enter the percentage  of the interst (monthly) = \"))\n",
        "yearToDays = 365*year\n",
        "monthToday = (28*month)\n",
        "totaltime =yearToDays + monthToday + days\n",
        "interstchange= interst/30\n",
        "calinterst= totaltime* (interstchange* principal/100)\n",
        "grandtotal = principal+calinterst\n",
        "print(f\"your principal amount is {principal}\")\n",
        "print(f\"your interst is {year} years {month} months {days} days\")\n",
        "print(f\"total duration (in days)= {totaltime}days\")\n",
        "print(f\"interst is = {calinterst}\")\n",
        "print(f\"your total amount = {grandtotal}\")"
      ],
      "metadata": {
        "colab": {
          "base_uri": "https://localhost:8080/"
        },
        "id": "jpGHWD--mqMn",
        "outputId": "2eb168dd-7af0-44e6-b8b3-9764e2ee0d0f"
      },
      "execution_count": 6,
      "outputs": [
        {
          "output_type": "stream",
          "name": "stdout",
          "text": [
            "Enter the Principal amount = 1000\n",
            "calculate intest\n",
            "enter year = 0\n",
            "enter month = 3\n",
            "enter days = 9\n",
            "enter the percentage  of the interst (monthly) = 5\n",
            "your principal amount is 1000\n",
            "your interst is 0 years 3 months 9 days\n",
            "total duration (in days)= 93days\n",
            "interst is = 155.0\n",
            "your total amount = 1155.0\n"
          ]
        }
      ]
    },
    {
      "cell_type": "code",
      "source": [
        "principal= int(input(\"Enter the Principal amount = \"))\n",
        "print(\"enter the time of intest\")\n",
        "year= int(input(\"enter year = \"))\n",
        "month= int(input(\"enter month = \"))\n",
        "days = int(input(\"enter days = \"))\n",
        "MonthlyOrYerly = input(\"interst in month(M) or year(Y) = \")\n",
        "if MonthlyOrYerly == \"M\" or \"Month\" or \"month\":\n",
        "  interst = float(input(\"enter the percentage  of the interst (monthly) = \"))\n",
        "  m = str(input(\"enter the month of intest: \"))\n",
        "  if m == \"January\" or \"march\" or \"may\" or \"july\" or \"August\" or \"October\" or \"December\":\n",
        "    yearToMonth = 12*year\n",
        "    dayToMonth = days/31\n",
        "    totaltime = yearToMonth + month + dayToMonth\n",
        "  elif m == \"April\" or \"June\" or \"September\" or \"November\":\n",
        "    yearToMonth = 12*year\n",
        "    dayToMonth = days/30\n",
        "    totaltime = yearToMonth + month + dayToMonth\n",
        "  elif m == \"February\":\n",
        "    yearToMonth = 12*year\n",
        "    dayToMonth = days/28\n",
        "    totaltime = yearToMonth + month + dayToMonth\n",
        "  else:\n",
        "   (\"invalid Month\")\n",
        "\n",
        "  calinterst= totaltime* (interst* principal/100)\n",
        "  grandtotal = principal+calinterst\n",
        "  print(f\"your principal amount is {principal}\")\n",
        "  print(f\"your interst is {year} years {month} months {days} days\")\n",
        "  print(f\"total duration (in Months)= {totaltime}days\")\n",
        "  print(f\"interst is = {calinterst}\")\n",
        "  print(f\"your total amount = {grandtotal}\")\n",
        "if MonthlyOrYerly == \"Y\" or \"year\" or \"Year\":\n",
        "  interst = float(input(\"enter the percentage  of the interst (annually) = \"))\n",
        "  daystomonth = days/30\n",
        "  monthToYear = month/12 + daystomonth\n",
        "\n",
        "  totaltime =year + monthToYear + daystomonth\n",
        "  calinterst= totaltime* (interst* principal/100)\n",
        "  grandtotal = principal+calinterst\n",
        "  print(f\"your principal amount is {principal}\")\n",
        "  print(f\"your interst is {year} years {month} months {days} days\")\n",
        "  print(f\"total duration (in year)= {totaltime}days\")\n",
        "  print(f\"interst is = {calinterst}\")\n",
        "  print(f\"your total amount = {grandtotal}\")"
      ],
      "metadata": {
        "colab": {
          "base_uri": "https://localhost:8080/"
        },
        "id": "H-wwTjhPpmjf",
        "outputId": "5650b506-97d1-4c2e-f371-08a8b15e745b"
      },
      "execution_count": 5,
      "outputs": [
        {
          "output_type": "stream",
          "name": "stdout",
          "text": [
            "Enter the Principal amount = 100\n",
            "enter the time of intest\n",
            "enter year = 5\n",
            "enter month = 10\n",
            "enter days = 2\n",
            "interst in month(M) or year(Y) = M\n",
            "enter the percentage  of the interst (monthly) = 5\n",
            "enter the month of intest: January \n",
            "your principal amount is 100\n",
            "your interst is 5 years 10 months 2 days\n",
            "total duration (in Months)= 70.06451612903226days\n",
            "interst is = 350.3225806451613\n",
            "your total amount = 450.3225806451613\n"
          ]
        }
      ]
    },
    {
      "cell_type": "code",
      "source": [
        "Principal = int(input(\"enter your perincipal amount= \"))\n",
        "MonthlyOrYerly = input(\"interst in month(M) or year(Y) = \")\n",
        "if MonthlyOrYerly == \"M\"\n",
        "  minterst = float(input(\"enter the intest\"))\n",
        "elif MonthlyOrYerly ==\"Y\"\n",
        "  yinterst = float(input(\"enter the intest\"))\n",
        "print(\"How much time for \")\n",
        "m = str(input(\"enter month to check interest in = \"))\n",
        "if m == \"January\" or \"march\" or \"may\" or \"july\" or \"August\" or \"October\" or \"December\":\n",
        "  yearToMonth = 12*year\n",
        "  dayToMonth = days/31\n",
        "  totaltime = yearToMonth + month + dayToMonth\n",
        "elif m == \"April\" or \"June\" or \"September\" or \"November\":\n",
        "  yearToMonth = 12*year\n",
        "  dayToMonth = days/30\n",
        "  totaltime = yearToMonth + month + dayToMonth\n",
        "elif m == \"February\":\n",
        "  yearToMonth = 12*year\n",
        "  dayToMonth = days/28\n",
        "  totaltime = yearToMonth + month + dayToMonth\n",
        "else:\n",
        " (\"invalid Month\")\n",
        "si = principal*m *\n",
        "\n"
      ],
      "metadata": {
        "id": "xXsQt8NHyQKt"
      },
      "execution_count": null,
      "outputs": []
    },
    {
      "cell_type": "code",
      "source": [
        "Principal = int(input(\"enter principal= \"))\n",
        "interest = int(input(\"enter % of interst (monthly)= \"))\n",
        "year= int(input(\"enter year= \"))\n",
        "month = str(input(\"enter month= \"))\n",
        "days = int(input(\"enter days\"))\n",
        "if month == \"January\" or \"march\" or \"may\" or \"july\" or \"August\" or \"October\" or \"December\":\n",
        "  time1 = days/31\n",
        "elif month == \"April\" or \"June\" or \"September\" or \"November\":\n",
        "    time1 = days/30\n",
        "elif month == \"February\":\n",
        "  if year%4==0 and year%100!=0 or year%400==0:\n",
        "    time1 = days/29\n",
        "  else:\n",
        "    time1 = days/28\n",
        "else:\n",
        "  print(\"invalid Month\")\n",
        "si = Principal*time1*interest\n",
        "print(f\"your total interest is {si}\")\n",
        "\n",
        "\n"
      ],
      "metadata": {
        "id": "FHB9EQxt46M8"
      },
      "execution_count": null,
      "outputs": []
    }
  ]
}