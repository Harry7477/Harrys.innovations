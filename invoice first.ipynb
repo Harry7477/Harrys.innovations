{
  "cells": [
    {
      "cell_type": "markdown",
      "metadata": {
        "id": "view-in-github",
        "colab_type": "text"
      },
      "source": [
        "<a href=\"https://colab.research.google.com/github/Harry7477/Harrys.innovations/blob/main/invoice%20first.ipynb\" target=\"_parent\"><img src=\"https://colab.research.google.com/assets/colab-badge.svg\" alt=\"Open In Colab\"/></a>"
      ]
    },
    {
      "cell_type": "code",
      "execution_count": 10,
      "metadata": {
        "colab": {
          "base_uri": "https://localhost:8080/"
        },
        "id": "gRh3GRPfrn3d",
        "outputId": "fca878ed-8e45-47f5-e65d-c8feeed23097"
      },
      "outputs": [
        {
          "output_type": "stream",
          "name": "stdout",
          "text": [
            "------------- Welcome to xyz shop---------\n",
            "enter the name = shampoo\n",
            "enter the price = 25\n",
            "enter the quantity = 10\n",
            "enter the name = oil\n",
            "enter the price = 250\n",
            "enter the quantity = 10\n",
            "enter the name = soap\n",
            "enter the price = 35\n",
            "enter the quantity = 10\n",
            "enter the name = face wash\n",
            "enter the price = 250\n",
            "enter the quantity = 5\n",
            "enter the name = hair oil\n",
            "enter the price = 30\n",
            "enter the quantity = 5\n",
            "your grand total is 4350\n"
          ]
        }
      ],
      "source": [
        "print(\"------------- Welcome to xyz shop---------\")\n",
        "\n",
        "product = input(\"enter the name = \")\n",
        "price = int(input('enter the price = '))\n",
        "qty = int(input(\"enter the quantity = \"))\n",
        "final1 = price * qty\n",
        "\n",
        "product1 = input(\"enter the name = \")\n",
        "price1 = int(input('enter the price = '))\n",
        "qty1 = int(input(\"enter the quantity = \"))\n",
        "final2 = price1 * qty1\n",
        "\n",
        "product2 = input(\"enter the name = \")\n",
        "price2 = int(input('enter the price = '))\n",
        "qty2 = int(input(\"enter the quantity = \"))\n",
        "final3 = price2 * qty2\n",
        "\n",
        "product3 = input(\"enter the name = \")\n",
        "price3 = int(input('enter the price = '))\n",
        "qty3 = int(input(\"enter the quantity = \"))\n",
        "final4 = price3 * qty3\n",
        "\n",
        "product4 = input(\"enter the name = \")\n",
        "price4 = int(input('enter the price = '))\n",
        "qty4 = int(input(\"enter the quantity = \"))\n",
        "final5 = price4 * qty4\n",
        "\n",
        "\n",
        "print(f'your grand total is {final1 + final2 + final3 + final4+ final5}')"
      ]
    }
  ],
  "metadata": {
    "colab": {
      "provenance": [],
      "authorship_tag": "ABX9TyOF0MM+0xI3qj0Cf2v1W53i",
      "include_colab_link": true
    },
    "kernelspec": {
      "display_name": "Python 3",
      "name": "python3"
    },
    "language_info": {
      "name": "python"
    }
  },
  "nbformat": 4,
  "nbformat_minor": 0
}