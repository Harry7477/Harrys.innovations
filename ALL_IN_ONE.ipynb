{
  "nbformat": 4,
  "nbformat_minor": 0,
  "metadata": {
    "colab": {
      "provenance": [],
      "authorship_tag": "ABX9TyPLr93BtaLAC8gB6A+nXHwL",
      "include_colab_link": true
    },
    "kernelspec": {
      "name": "python3",
      "display_name": "Python 3"
    },
    "language_info": {
      "name": "python"
    }
  },
  "cells": [
    {
      "cell_type": "markdown",
      "metadata": {
        "id": "view-in-github",
        "colab_type": "text"
      },
      "source": [
        "<a href=\"https://colab.research.google.com/github/Harry7477/Harrys.innovations/blob/main/ALL_IN_ONE.ipynb\" target=\"_parent\"><img src=\"https://colab.research.google.com/assets/colab-badge.svg\" alt=\"Open In Colab\"/></a>"
      ]
    },
    {
      "cell_type": "code",
      "execution_count": null,
      "metadata": {
        "id": "qL4HzF7MHKIP",
        "colab": {
          "base_uri": "https://localhost:8080/",
          "height": 108
        },
        "outputId": "6b1246cb-cb48-49bb-9e55-2653b9c048b8"
      },
      "outputs": [
        {
          "output_type": "error",
          "ename": "SyntaxError",
          "evalue": "invalid syntax. Maybe you meant '==' or ':=' instead of '='? (ipython-input-36614822.py, line 4)",
          "traceback": [
            "\u001b[0;36m  File \u001b[0;32m\"/tmp/ipython-input-36614822.py\"\u001b[0;36m, line \u001b[0;32m4\u001b[0m\n\u001b[0;31m    if directions = 'north'\u001b[0m\n\u001b[0m       ^\u001b[0m\n\u001b[0;31mSyntaxError\u001b[0m\u001b[0;31m:\u001b[0m invalid syntax. Maybe you meant '==' or ':=' instead of '='?\n"
          ]
        }
      ],
      "source": [
        "#traffic light system\n",
        "directions = str(input(\"which side want to green = \"))\n",
        "['north', 'south', 'east', 'west']\n",
        "if directions = 'north'\n",
        "  print(\"si = red\")\n",
        "  print(\"wi = red\")\n",
        "  print(\"ei = red\")\n",
        "  print(\"wo = green\")\n",
        "  print(\"so = green\")\n",
        "  print(\"eo = green\")\n",
        "  print(\"no = green\")\n",
        "elif directions = 'south'\n",
        "  print(\"go south\")\n",
        "elif directions = 'east'\n",
        "  print(\"go east\")\n",
        "elif directions = 'west'\n",
        "  print(\"go west\"\n"
      ]
    },
    {
      "cell_type": "code",
      "source": [
        "n = 150\n",
        "d = 4\n",
        "a = 3\n",
        "an = a + (n-1)* d\n",
        "print(f\"{an}\")\n"
      ],
      "metadata": {
        "colab": {
          "base_uri": "https://localhost:8080/"
        },
        "id": "q4r0fleTaCcq",
        "outputId": "e2bbf6f4-0210-4ce7-e2e1-d4a74bbfc64d"
      },
      "execution_count": null,
      "outputs": [
        {
          "output_type": "stream",
          "name": "stdout",
          "text": [
            "599\n"
          ]
        }
      ]
    },
    {
      "cell_type": "code",
      "source": [
        "for i in range(5):\n",
        "  print(i)"
      ],
      "metadata": {
        "colab": {
          "base_uri": "https://localhost:8080/"
        },
        "id": "9j4KSSUIdGFw",
        "outputId": "2e0cb768-4db5-4b86-d5d5-8056cc0f6dd0"
      },
      "execution_count": null,
      "outputs": [
        {
          "output_type": "stream",
          "name": "stdout",
          "text": [
            "0\n",
            "1\n",
            "2\n",
            "3\n",
            "4\n"
          ]
        }
      ]
    },
    {
      "cell_type": "code",
      "source": [
        "for i in range(1,5):\n",
        "  print(i)"
      ],
      "metadata": {
        "colab": {
          "base_uri": "https://localhost:8080/"
        },
        "id": "Q1SgLHsPebH7",
        "outputId": "3e2556a9-3efb-42b8-d186-a03a093adb63"
      },
      "execution_count": null,
      "outputs": [
        {
          "output_type": "stream",
          "name": "stdout",
          "text": [
            "1\n",
            "2\n",
            "3\n",
            "4\n"
          ]
        }
      ]
    },
    {
      "cell_type": "code",
      "source": [
        "sum = 0\n",
        "for i in range(1,101,5):\n",
        "  sum = sum + i\n",
        "print(sum)"
      ],
      "metadata": {
        "colab": {
          "base_uri": "https://localhost:8080/"
        },
        "id": "ErZbWK6Og9u1",
        "outputId": "3b50179f-ec8f-4c94-8af1-c2a7a661d022"
      },
      "execution_count": null,
      "outputs": [
        {
          "output_type": "stream",
          "name": "stdout",
          "text": [
            "970\n"
          ]
        }
      ]
    },
    {
      "cell_type": "code",
      "source": [
        "sum=0\n",
        "for i in range(1,1002,5):\n",
        "  sum=sum+i\n",
        "print(sum)"
      ],
      "metadata": {
        "colab": {
          "base_uri": "https://localhost:8080/"
        },
        "id": "S8hVuSi-iMI2",
        "outputId": "83d6433d-2ccf-4471-d12d-5c2810c5e999"
      },
      "execution_count": null,
      "outputs": [
        {
          "output_type": "stream",
          "name": "stdout",
          "text": [
            "100701\n"
          ]
        }
      ]
    },
    {
      "cell_type": "code",
      "source": [
        "fit=1\n",
        "for i in range(1,11):\n",
        "  fit=fit*i\n",
        "print(fit)"
      ],
      "metadata": {
        "colab": {
          "base_uri": "https://localhost:8080/"
        },
        "id": "OnQ2Xy0ykaKL",
        "outputId": "f98144cd-22b0-46fb-badf-87aa0814e83c"
      },
      "execution_count": null,
      "outputs": [
        {
          "output_type": "stream",
          "name": "stdout",
          "text": [
            "3628800\n"
          ]
        }
      ]
    },
    {
      "cell_type": "code",
      "source": [
        "a,b= 5,10\n",
        "a=a+b\n",
        "b=a-b\n",
        "a=a-b\n",
        "print(a)\n",
        "print(b)"
      ],
      "metadata": {
        "colab": {
          "base_uri": "https://localhost:8080/"
        },
        "id": "2Zqh927RlMFt",
        "outputId": "2090e536-8ef9-46b3-b79c-41a8ddbfe427"
      },
      "execution_count": null,
      "outputs": [
        {
          "output_type": "stream",
          "name": "stdout",
          "text": [
            "10\n",
            "5\n"
          ]
        }
      ]
    },
    {
      "cell_type": "code",
      "source": [
        "fectorial=1\n",
        "sum=0\n",
        "for i in range(1,11):\n",
        "  fectorial=fectorial*i\n",
        "  sum=sum+fectorial\n",
        "  print(fectorial)\n",
        "print(f\"total sum= {sum}\")"
      ],
      "metadata": {
        "colab": {
          "base_uri": "https://localhost:8080/"
        },
        "id": "MfcGFlMpqUk9",
        "outputId": "b1122e2d-9682-40ae-8bc6-3aea14678be5"
      },
      "execution_count": null,
      "outputs": [
        {
          "output_type": "stream",
          "name": "stdout",
          "text": [
            "1\n",
            "2\n",
            "6\n",
            "24\n",
            "120\n",
            "720\n",
            "5040\n",
            "40320\n",
            "362880\n",
            "3628800\n",
            "total sum= 4037913\n"
          ]
        }
      ]
    },
    {
      "cell_type": "code",
      "source": [
        "num= \"583256\"\n",
        "print(num[::-1])"
      ],
      "metadata": {
        "colab": {
          "base_uri": "https://localhost:8080/"
        },
        "id": "qeIjHrjEvpwx",
        "outputId": "b63d0f36-dd62-4075-882d-caa4772ac110"
      },
      "execution_count": null,
      "outputs": [
        {
          "output_type": "stream",
          "name": "stdout",
          "text": [
            "652385\n"
          ]
        }
      ]
    },
    {
      "cell_type": "code",
      "source": [
        "num=int(583256)\n",
        "sum=0\n",
        "while num > 0:\n",
        "  sep= num%10\n",
        "  num=int(num/10)\n",
        "  sum=sum+sep\n",
        "print(sum)\n",
        "\n"
      ],
      "metadata": {
        "colab": {
          "base_uri": "https://localhost:8080/"
        },
        "id": "e9nPrEkTxfc1",
        "outputId": "31cab207-34db-4c0d-a858-fbfdc568399e"
      },
      "execution_count": null,
      "outputs": [
        {
          "output_type": "stream",
          "name": "stdout",
          "text": [
            "29\n"
          ]
        }
      ]
    },
    {
      "cell_type": "code",
      "source": [
        "def num(n):\n",
        "  sum=0\n",
        "  while n > 0:\n",
        "    sep= n%10\n",
        "    n=int(n/10)\n",
        "    sum=sum+sep\n",
        "  return sum\n",
        "print(num(64))"
      ],
      "metadata": {
        "colab": {
          "base_uri": "https://localhost:8080/"
        },
        "id": "GVyKAo632UGR",
        "outputId": "854e6caa-3f12-4d3c-c663-4ccfd735f207"
      },
      "execution_count": null,
      "outputs": [
        {
          "output_type": "stream",
          "name": "stdout",
          "text": [
            "10\n"
          ]
        }
      ]
    },
    {
      "cell_type": "code",
      "source": [
        "def sumOfFactorial(n):\n",
        "  fectorial =1\n",
        "  sum=0\n",
        "  for i in range(1,n+1):\n",
        "    fectorial= fectorial*i\n",
        "    sum= sum+fectorial\n",
        "  return sum\n",
        "print(sumOfFactorial(5))"
      ],
      "metadata": {
        "colab": {
          "base_uri": "https://localhost:8080/"
        },
        "id": "RYZ-xJii3jhD",
        "outputId": "79459fd0-d271-41d3-b95b-72fa6877e841"
      },
      "execution_count": null,
      "outputs": [
        {
          "output_type": "stream",
          "name": "stdout",
          "text": [
            "153\n"
          ]
        }
      ]
    },
    {
      "cell_type": "code",
      "source": [
        "def sumOfFactorial(n):\n",
        "  fectorial =1\n",
        "  sum=0\n",
        "  for i in range(1,n+1):\n",
        "\n",
        "    fectorial= fectorial*i\n",
        "    print(fectorial)\n",
        "    fectorial += 2\n",
        "    sum= sum+fectorial\n",
        "  return sum\n",
        "  print()\n",
        "print(sumOfFactorial(5))"
      ],
      "metadata": {
        "colab": {
          "base_uri": "https://localhost:8080/"
        },
        "id": "bm_Wfv8f5q6_",
        "outputId": "522cd895-7a09-4a44-bef0-ae3eedaafbb1"
      },
      "execution_count": null,
      "outputs": [
        {
          "output_type": "stream",
          "name": "stdout",
          "text": [
            "1\n",
            "6\n",
            "24\n",
            "104\n",
            "530\n",
            "675\n"
          ]
        }
      ]
    },
    {
      "cell_type": "code",
      "source": [
        "def lastNum(n):\n",
        "  fectorial =1\n",
        "  single=0\n",
        "  finalsum = 0\n",
        "  final =0\n",
        "  for j in range(1,n+1):\n",
        "    for i in range(1,11,+2):\n",
        "    final=fectorial*i\n",
        "    print(final)\n"
      ],
      "metadata": {
        "colab": {
          "base_uri": "https://localhost:8080/",
          "height": 108
        },
        "id": "6h8fSawl7GY1",
        "outputId": "3dfd9107-2e56-4275-a110-4722a5561af1"
      },
      "execution_count": null,
      "outputs": [
        {
          "output_type": "error",
          "ename": "IndentationError",
          "evalue": "expected an indented block after 'for' statement on line 7 (ipython-input-3954891145.py, line 8)",
          "traceback": [
            "\u001b[0;36m  File \u001b[0;32m\"/tmp/ipython-input-3954891145.py\"\u001b[0;36m, line \u001b[0;32m8\u001b[0m\n\u001b[0;31m    final=fectorial*i\u001b[0m\n\u001b[0m    ^\u001b[0m\n\u001b[0;31mIndentationError\u001b[0m\u001b[0;31m:\u001b[0m expected an indented block after 'for' statement on line 7\n"
          ]
        }
      ]
    },
    {
      "cell_type": "code",
      "source": [
        "from typing_extensions import final\n",
        "def lastnum(n):\n",
        "  sum=0\n",
        "  for i in range(1,n+1,+2):\n",
        "   fectorial = 1\n",
        "   for j in range(1,i+1):\n",
        "    fectorial=fectorial*i\n",
        "  return fectorial\n",
        "print(lastnum(5))\n",
        "#  sum = sum+final\n",
        "# print(sum)\n"
      ],
      "metadata": {
        "id": "IQ-CVPME-Nvs"
      },
      "execution_count": null,
      "outputs": []
    },
    {
      "cell_type": "code",
      "source": [
        "for i in range(1, 22, 2):\n",
        "\n",
        "  print(i)"
      ],
      "metadata": {
        "id": "zufhx0KkF1D1"
      },
      "execution_count": null,
      "outputs": []
    },
    {
      "cell_type": "code",
      "source": [
        "a= 289\n",
        "b= 187\n",
        "hcf=0\n",
        "print(f\"your first no is = {a}\")\n",
        "print(f\"your second no is = {b}\")\n",
        "if a<b:\n",
        "  small = b\n",
        "else:\n",
        "  small = a\n",
        "for i in range(1,small+1):\n",
        "  if i%small == 0:\n",
        "     hcf = i\n",
        "print(f\"your HCF is = {hcf}\")\n"
      ],
      "metadata": {
        "id": "_G0GMkAEi8Rj"
      },
      "execution_count": null,
      "outputs": []
    },
    {
      "cell_type": "code",
      "source": [
        "a= int(input(\"\"))\n",
        "b= 20\n",
        "lcm=0\n",
        "lowest=0\n",
        "\n",
        "print(f\"your first no is = {a}\")\n",
        "print(f\"your second no is = {b}\")\n",
        "if a>b:\n",
        "  gretest = b\n",
        "else:\n",
        "  gretest = a\n",
        "for i in range(gretest,a*b+1):\n",
        "  if i%a == 0 and i%b ==0:\n",
        "    lowest=i\n",
        "    if lowest < i:\n",
        "      pass\n",
        "    print(lcm)"
      ],
      "metadata": {
        "id": "jKUC4FA3rgNy"
      },
      "execution_count": null,
      "outputs": []
    },
    {
      "cell_type": "code",
      "source": [
        "def fect(n):\n",
        "  if n == 0 or n == 1:\n",
        "    return 1\n",
        "  else:\n",
        "    return n*fect(n-1)\n",
        "fect(5)"
      ],
      "metadata": {
        "id": "ZvS1-xti0W22"
      },
      "execution_count": null,
      "outputs": []
    },
    {
      "cell_type": "code",
      "source": [
        "def feb(n):\n",
        "  if n<=0:\n",
        "    return 0\n",
        "  elif n==1:\n",
        "    return 1\n",
        "  else:\n",
        "    return feb(n-1)+feb(n-2)\n",
        "\n",
        "n = int(input(\"enter number =\"))\n",
        "for i in range(n):\n",
        "  print(feb(i))\n",
        "feb(n)"
      ],
      "metadata": {
        "id": "7SpB4yil7sPv"
      },
      "execution_count": null,
      "outputs": []
    },
    {
      "cell_type": "code",
      "source": [
        "name = \"harwinder\"\n",
        "for i in name:\n",
        "  print(i)"
      ],
      "metadata": {
        "id": "F4EDOjn79ort"
      },
      "execution_count": null,
      "outputs": []
    },
    {
      "cell_type": "code",
      "source": [
        "name= \"harwinder\"\n",
        "if 'w'in name:\n",
        "  print(\"yes\")\n",
        "else:\n",
        "  print(\"no\")"
      ],
      "metadata": {
        "id": "10A6AtEu_8TF"
      },
      "execution_count": null,
      "outputs": []
    },
    {
      "cell_type": "code",
      "source": [
        "#how to remove spacing\n",
        "name= \" H a r w i n d e r \"\n",
        "print(name.replace(\" \",\"\"))\n",
        "print(name.strip())\n",
        "print(name)"
      ],
      "metadata": {
        "id": "jBkux4InADHj"
      },
      "execution_count": null,
      "outputs": []
    },
    {
      "cell_type": "code",
      "source": [
        "# how to add 2 strings\n",
        "first_name=\"Harwinder\"\n",
        "second_name=\"Singh\"\n",
        "print(first_name + \" \" + second_name)"
      ],
      "metadata": {
        "id": "yjHlFT5MBrAj"
      },
      "execution_count": null,
      "outputs": []
    },
    {
      "cell_type": "code",
      "source": [
        "#how to filter by name\n",
        "states =\"Punjab\"\n",
        "print(states.startswith(\"P\"))\n",
        "print(states.endswith(\"jab\"))"
      ],
      "metadata": {
        "id": "EkDYNQg1CLcA"
      },
      "execution_count": null,
      "outputs": []
    },
    {
      "cell_type": "code",
      "source": [
        "#checking pelloin drown\n",
        "name= input(\"enter you want to check = \")\n",
        "rever_of_name = name[::-1]\n",
        "if name == rever_of_name:\n",
        "  print(f\"yes its a palloin drown = {rever_of_name}\")\n",
        "  divied= int(name)/5\n",
        "  print(divied)\n",
        "else:\n",
        "  print(f\"no its not palloin drown\")"
      ],
      "metadata": {
        "id": "V7c5CNqsDEE6"
      },
      "execution_count": null,
      "outputs": []
    },
    {
      "cell_type": "code",
      "source": [
        "#name no sidha putha kime karna\n",
        "name= \"harwinder\"\n",
        "for char in name:\n",
        "  print(char)\n",
        "  #sidha= sidha+char\n",
        "  putha= char+putha\n",
        "#print(sidha)\n",
        "print(putha)"
      ],
      "metadata": {
        "id": "a0TM_M44jTcR"
      },
      "execution_count": null,
      "outputs": []
    },
    {
      "cell_type": "code",
      "source": [
        "name = input(\"Input = \")\n",
        "x= input(\"what you wnt to find = \")\n",
        "count= 0\n",
        "for check in name:\n",
        "  if check == x:\n",
        "    count= count+1\n",
        "print(f\"its {count} times\")"
      ],
      "metadata": {
        "colab": {
          "base_uri": "https://localhost:8080/"
        },
        "id": "yfPvK71SlP1a",
        "outputId": "49088e77-efaa-4cf9-e65a-aaba79d8e415"
      },
      "execution_count": null,
      "outputs": [
        {
          "output_type": "stream",
          "name": "stdout",
          "text": [
            "Input = 1231\n",
            "what you wnt to find = 1\n",
            "its 2 times\n"
          ]
        }
      ]
    },
    {
      "cell_type": "code",
      "source": [
        "a= int(input(\"your First number = \"))\n",
        "b= int(input(\"your second number = \"))\n",
        "lcm=0\n",
        "lowest=0\n",
        "if a>b:\n",
        "  gretest = b\n",
        "else:\n",
        "  gretest = a\n",
        "for i in range(gretest,a*b+1):\n",
        "  if i%a == 0 and i%b ==0:\n",
        "    lowest=i\n",
        "    if lowest < i:\n",
        "      pass\n",
        "  lcm= lowest\n",
        "print(lcm)"
      ],
      "metadata": {
        "colab": {
          "base_uri": "https://localhost:8080/"
        },
        "id": "VZX2S1rm7HQ6",
        "outputId": "ffe60041-2577-43e3-8b9b-e012e6855908"
      },
      "execution_count": null,
      "outputs": [
        {
          "output_type": "stream",
          "name": "stdout",
          "text": [
            "your First number = 10\n",
            "your second number = 20\n",
            "200\n"
          ]
        }
      ]
    },
    {
      "cell_type": "code",
      "source": [
        "Principal = int(input(\"enter principal= \"))\n",
        "interest = int(input(\"enter % of interst (monthly)= \"))\n",
        "year= int(input(\"enter year= \"))\n",
        "month = str(input(\"enter month= \"))\n",
        "days = int(input(\"enter days= \"))\n",
        "if month == \"January\" or \"march\" or \"may\" or \"july\" or \"August\" or \"October\" or \"December\":\n",
        "  time1 = days/31\n",
        "elif month == \"April\" or \"June\" or \"September\" or \"November\":\n",
        "    time1 = days/30\n",
        "elif month == \"February\":\n",
        "  if year%4==0 and year%100!=0 or year%400==0:\n",
        "    time1 = days/29\n",
        "  else:\n",
        "    time1 = days/28\n",
        "else:\n",
        "  print(\"invalid Month\")\n",
        "si = Principal*time1*interest\n",
        "print(f\"your total interest is {si}\")"
      ],
      "metadata": {
        "id": "AsK2LLe083hi",
        "colab": {
          "base_uri": "https://localhost:8080/"
        },
        "outputId": "fd46c455-a40d-49ff-8322-844bcd04ef8d"
      },
      "execution_count": 15,
      "outputs": [
        {
          "output_type": "stream",
          "name": "stdout",
          "text": [
            "enter principal= 5000\n",
            "enter % of interst (monthly)= 5\n",
            "enter year= 0\n",
            "enter month= 7\n",
            "enter days= 1\n",
            "your total interest is 806.4516129032257\n"
          ]
        }
      ]
    },
    {
      "cell_type": "code",
      "source": [
        "Principal= int(input(\"enter Principal= \"))\n",
        "Interest= int(input(\"enter % of interest\"))\n",
        "final= principal*interest\n",
        "print(final)"
      ],
      "metadata": {
        "colab": {
          "base_uri": "https://localhost:8080/",
          "height": 347
        },
        "id": "4hUoronK-VVC",
        "outputId": "d1aa9f02-8bd9-4604-fb3c-e4f8dc098425"
      },
      "execution_count": 20,
      "outputs": [
        {
          "output_type": "error",
          "ename": "KeyboardInterrupt",
          "evalue": "Interrupted by user",
          "traceback": [
            "\u001b[0;31m---------------------------------------------------------------------------\u001b[0m",
            "\u001b[0;31mKeyboardInterrupt\u001b[0m                         Traceback (most recent call last)",
            "\u001b[0;32m/tmp/ipython-input-1842661738.py\u001b[0m in \u001b[0;36m<cell line: 0>\u001b[0;34m()\u001b[0m\n\u001b[0;32m----> 1\u001b[0;31m \u001b[0mPrincipal\u001b[0m\u001b[0;34m=\u001b[0m \u001b[0mint\u001b[0m\u001b[0;34m(\u001b[0m\u001b[0minput\u001b[0m\u001b[0;34m(\u001b[0m\u001b[0;34m\"enter Principal= \"\u001b[0m\u001b[0;34m)\u001b[0m\u001b[0;34m)\u001b[0m\u001b[0;34m\u001b[0m\u001b[0;34m\u001b[0m\u001b[0m\n\u001b[0m\u001b[1;32m      2\u001b[0m \u001b[0mInterest\u001b[0m\u001b[0;34m=\u001b[0m \u001b[0mint\u001b[0m\u001b[0;34m(\u001b[0m\u001b[0minput\u001b[0m\u001b[0;34m(\u001b[0m\u001b[0;34m\"enter % of interest\"\u001b[0m\u001b[0;34m)\u001b[0m\u001b[0;34m)\u001b[0m\u001b[0;34m\u001b[0m\u001b[0;34m\u001b[0m\u001b[0m\n\u001b[1;32m      3\u001b[0m \u001b[0mfinal\u001b[0m\u001b[0;34m=\u001b[0m \u001b[0mprincipal\u001b[0m\u001b[0;34m*\u001b[0m\u001b[0minterest\u001b[0m\u001b[0;34m\u001b[0m\u001b[0;34m\u001b[0m\u001b[0m\n\u001b[1;32m      4\u001b[0m \u001b[0mprint\u001b[0m\u001b[0;34m(\u001b[0m\u001b[0mfinal\u001b[0m\u001b[0;34m)\u001b[0m\u001b[0;34m\u001b[0m\u001b[0;34m\u001b[0m\u001b[0m\n",
            "\u001b[0;32m/usr/local/lib/python3.12/dist-packages/ipykernel/kernelbase.py\u001b[0m in \u001b[0;36mraw_input\u001b[0;34m(self, prompt)\u001b[0m\n\u001b[1;32m   1175\u001b[0m                 \u001b[0;34m\"raw_input was called, but this frontend does not support input requests.\"\u001b[0m\u001b[0;34m\u001b[0m\u001b[0;34m\u001b[0m\u001b[0m\n\u001b[1;32m   1176\u001b[0m             )\n\u001b[0;32m-> 1177\u001b[0;31m         return self._input_request(\n\u001b[0m\u001b[1;32m   1178\u001b[0m             \u001b[0mstr\u001b[0m\u001b[0;34m(\u001b[0m\u001b[0mprompt\u001b[0m\u001b[0;34m)\u001b[0m\u001b[0;34m,\u001b[0m\u001b[0;34m\u001b[0m\u001b[0;34m\u001b[0m\u001b[0m\n\u001b[1;32m   1179\u001b[0m             \u001b[0mself\u001b[0m\u001b[0;34m.\u001b[0m\u001b[0m_parent_ident\u001b[0m\u001b[0;34m[\u001b[0m\u001b[0;34m\"shell\"\u001b[0m\u001b[0;34m]\u001b[0m\u001b[0;34m,\u001b[0m\u001b[0;34m\u001b[0m\u001b[0;34m\u001b[0m\u001b[0m\n",
            "\u001b[0;32m/usr/local/lib/python3.12/dist-packages/ipykernel/kernelbase.py\u001b[0m in \u001b[0;36m_input_request\u001b[0;34m(self, prompt, ident, parent, password)\u001b[0m\n\u001b[1;32m   1217\u001b[0m             \u001b[0;32mexcept\u001b[0m \u001b[0mKeyboardInterrupt\u001b[0m\u001b[0;34m:\u001b[0m\u001b[0;34m\u001b[0m\u001b[0;34m\u001b[0m\u001b[0m\n\u001b[1;32m   1218\u001b[0m                 \u001b[0;31m# re-raise KeyboardInterrupt, to truncate traceback\u001b[0m\u001b[0;34m\u001b[0m\u001b[0;34m\u001b[0m\u001b[0m\n\u001b[0;32m-> 1219\u001b[0;31m                 \u001b[0;32mraise\u001b[0m \u001b[0mKeyboardInterrupt\u001b[0m\u001b[0;34m(\u001b[0m\u001b[0;34m\"Interrupted by user\"\u001b[0m\u001b[0;34m)\u001b[0m \u001b[0;32mfrom\u001b[0m \u001b[0;32mNone\u001b[0m\u001b[0;34m\u001b[0m\u001b[0;34m\u001b[0m\u001b[0m\n\u001b[0m\u001b[1;32m   1220\u001b[0m             \u001b[0;32mexcept\u001b[0m \u001b[0mException\u001b[0m\u001b[0;34m:\u001b[0m\u001b[0;34m\u001b[0m\u001b[0;34m\u001b[0m\u001b[0m\n\u001b[1;32m   1221\u001b[0m                 \u001b[0mself\u001b[0m\u001b[0;34m.\u001b[0m\u001b[0mlog\u001b[0m\u001b[0;34m.\u001b[0m\u001b[0mwarning\u001b[0m\u001b[0;34m(\u001b[0m\u001b[0;34m\"Invalid Message:\"\u001b[0m\u001b[0;34m,\u001b[0m \u001b[0mexc_info\u001b[0m\u001b[0;34m=\u001b[0m\u001b[0;32mTrue\u001b[0m\u001b[0;34m)\u001b[0m\u001b[0;34m\u001b[0m\u001b[0;34m\u001b[0m\u001b[0m\n",
            "\u001b[0;31mKeyboardInterrupt\u001b[0m: Interrupted by user"
          ]
        }
      ]
    },
    {
      "cell_type": "code",
      "source": [
        "a= [10,20,30,40,50,60]\n",
        "print(a[4])\n",
        "#check number is available\n",
        "if 50 in a:\n",
        "  print(\"its available\")\n",
        "else:\n",
        "  print(\"not available\")\n",
        "\n",
        "#print in next and next line\n",
        "for i in a:\n",
        "  print(i)\n",
        "\n",
        "#limit print of list\n",
        "print(a[0:3])\n",
        "print(a[1:5])\n",
        "print(a[-4:-1])\n",
        "print(a[-6:-3])\n",
        "\n",
        "\n",
        "#sum of all number in the list\n",
        "\n",
        "add=0\n",
        "for sum in a:\n",
        "  add +=sum\n",
        "print(f\"sum of all number are = {add}\")\n",
        "\n",
        "\n",
        "\n",
        "#"
      ],
      "metadata": {
        "colab": {
          "base_uri": "https://localhost:8080/"
        },
        "id": "9syBkJOTcfs0",
        "outputId": "b20950f3-a030-471b-b862-d431f6eed82f"
      },
      "execution_count": 21,
      "outputs": [
        {
          "output_type": "stream",
          "name": "stdout",
          "text": [
            "50\n",
            "its available\n",
            "10\n",
            "20\n",
            "30\n",
            "40\n",
            "50\n",
            "60\n",
            "[10, 20, 30]\n",
            "[20, 30, 40, 50]\n",
            "[30, 40, 50]\n",
            "[10, 20, 30]\n",
            "sum of all number are = 210\n"
          ]
        }
      ]
    },
    {
      "cell_type": "code",
      "source": [],
      "metadata": {
        "id": "EFrV8VEBcfEc"
      },
      "execution_count": null,
      "outputs": []
    }
  ]
}