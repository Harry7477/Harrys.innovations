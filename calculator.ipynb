{
  "nbformat": 4,
  "nbformat_minor": 0,
  "metadata": {
    "colab": {
      "provenance": [],
      "authorship_tag": "ABX9TyMTNck9kOhitiYq7YYGRnHw",
      "include_colab_link": true
    },
    "kernelspec": {
      "name": "python3",
      "display_name": "Python 3"
    },
    "language_info": {
      "name": "python"
    }
  },
  "cells": [
    {
      "cell_type": "markdown",
      "metadata": {
        "id": "view-in-github",
        "colab_type": "text"
      },
      "source": [
        "<a href=\"https://colab.research.google.com/github/Harry7477/Harrys.innovations/blob/main/calculator.ipynb\" target=\"_parent\"><img src=\"https://colab.research.google.com/assets/colab-badge.svg\" alt=\"Open In Colab\"/></a>"
      ]
    },
    {
      "cell_type": "code",
      "execution_count": null,
      "metadata": {
        "id": "ziQcEsgml65W"
      },
      "outputs": [],
      "source": [
        "# Start create calculator\n",
        "# for input the first number\n",
        "n1= int(input(\"enter your frist number= \"))\n",
        "# cal is a short form of calculate\n",
        "cal = input('sum, Sub, div, multi, rem = ')\n",
        "# input second number\n",
        "n2= int(input(\"enter your sec. number= \"))\n",
        "# conditions\n",
        "if cal == 'sum':\n",
        "  result= n1 + n2\n",
        "  formelti = f\"Sum of the {n1} and {n2} = \"\n",
        "  print( formelti, int(result))\n",
        "elif cal == 'sub':\n",
        "  result= n1 - n2\n",
        "  formelti = f\"Subtraction of the {n1} and {n2} = \"\n",
        "  print( formelti, int(result))\n",
        "elif cal == 'div':\n",
        "  result= n1 / n2\n",
        "  formelti = f\"divdtion of the {n1} and {n2} = \"\n",
        "  print( formelti, int(result))\n",
        "elif cal == 'multi':\n",
        "  result= n1 * n2\n",
        "  formelti = f\"multiply of the {n1} and {n2} = \"\n",
        "  print( formelti, int(result))\n",
        "elif cal == 'rem':\n",
        "  result= n1 % n2\n",
        "  formelti = f\"reminder of the {n1} and {n2} = \"\n",
        "  print( formelti, int(result))\n"
      ]
    }
  ]
}