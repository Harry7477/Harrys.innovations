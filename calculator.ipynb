{
  "nbformat": 4,
  "nbformat_minor": 0,
  "metadata": {
    "colab": {
      "provenance": [],
      "authorship_tag": "ABX9TyMBbFBeUkuxJ2QhSUOAZroc",
      "include_colab_link": true
    },
    "kernelspec": {
      "name": "python3",
      "display_name": "Python 3"
    },
    "language_info": {
      "name": "python"
    }
  },
  "cells": [
    {
      "cell_type": "markdown",
      "metadata": {
        "id": "view-in-github",
        "colab_type": "text"
      },
      "source": [
        "<a href=\"https://colab.research.google.com/github/Harry7477/Harrys.innovations/blob/main/calculator.ipynb\" target=\"_parent\"><img src=\"https://colab.research.google.com/assets/colab-badge.svg\" alt=\"Open In Colab\"/></a>"
      ]
    },
    {
      "cell_type": "code",
      "execution_count": null,
      "metadata": {
        "id": "ziQcEsgml65W"
      },
      "outputs": [],
      "source": [
        "# Start create calculator\n",
        "# for input the first number\n",
        "n1= int(input(\"enter your frist number= \"))\n",
        "# cal is a short form of calculate\n",
        "cal = input('add, Sub, div, multi, rem = ')\n",
        "# input second number\n",
        "n2= int(input(\"enter your sec. number= \"))\n",
        "# conditions\n",
        "if cal == 'add':\n",
        "  print(n1 + n2)\n",
        "elif cal == 'sub':\n",
        "  print(n1-n2)\n",
        "elif cal == 'div':\n",
        "  print(n1/n2)\n",
        "elif cal == 'multi':\n",
        "  print(n1*n2)\n",
        "elif cal == 'rem':\n",
        "  print(n1%n2)\n"
      ]
    }
  ]
}