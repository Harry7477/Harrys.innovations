{
  "nbformat": 4,
  "nbformat_minor": 0,
  "metadata": {
    "colab": {
      "provenance": [],
      "authorship_tag": "ABX9TyOFnkYSj1s/3mpeD3+EouUb",
      "include_colab_link": true
    },
    "kernelspec": {
      "name": "python3",
      "display_name": "Python 3"
    },
    "language_info": {
      "name": "python"
    }
  },
  "cells": [
    {
      "cell_type": "markdown",
      "metadata": {
        "id": "view-in-github",
        "colab_type": "text"
      },
      "source": [
        "<a href=\"https://colab.research.google.com/github/Harry7477/Harrys.innovations/blob/main/TRAFFIC_LIGHT_SYSTEM.ipynb\" target=\"_parent\"><img src=\"https://colab.research.google.com/assets/colab-badge.svg\" alt=\"Open In Colab\"/></a>"
      ]
    },
    {
      "cell_type": "code",
      "execution_count": null,
      "metadata": {
        "id": "qL4HzF7MHKIP"
      },
      "outputs": [],
      "source": [
        "#traffic light system\n",
        "directions = str(input(\"which side want to green = \"))\n",
        "['north', 'south', 'east', 'west']\n",
        "if directions = 'north'\n",
        "  print(\"si = red\")\n",
        "  print(\"wi = red\")\n",
        "  print(\"ei = red\")\n",
        "  print(\"wo = green\")\n",
        "  print(\"so = green\")\n",
        "  print(\"eo = green\")\n",
        "  print(\"no = green\")\n",
        "elif directions = 'south'\n",
        "  print(\"go south\")\n",
        "elif directions = 'east'\n",
        "  print(\"go east\")\n",
        "elif directions = 'west'\n",
        "  print(\"go west\"\n"
      ]
    },
    {
      "cell_type": "code",
      "source": [
        "n = 150\n",
        "d = 4\n",
        "a = 3\n",
        "an = a + (n-1)* d\n",
        "print(f\"{an}\")\n"
      ],
      "metadata": {
        "colab": {
          "base_uri": "https://localhost:8080/"
        },
        "id": "q4r0fleTaCcq",
        "outputId": "c010105e-ba60-4b6e-9c60-46e70a4d6d04"
      },
      "execution_count": null,
      "outputs": [
        {
          "output_type": "stream",
          "name": "stdout",
          "text": [
            "599\n"
          ]
        }
      ]
    },
    {
      "cell_type": "code",
      "source": [
        "for i in range(5):\n",
        "  print(i)"
      ],
      "metadata": {
        "colab": {
          "base_uri": "https://localhost:8080/"
        },
        "id": "9j4KSSUIdGFw",
        "outputId": "964118a0-aed0-43be-dd7e-3416ce0521ce"
      },
      "execution_count": null,
      "outputs": [
        {
          "output_type": "stream",
          "name": "stdout",
          "text": [
            "0\n",
            "1\n",
            "2\n",
            "3\n",
            "4\n"
          ]
        }
      ]
    },
    {
      "cell_type": "code",
      "source": [
        "for i in range(1,5):\n",
        "  print(i)"
      ],
      "metadata": {
        "colab": {
          "base_uri": "https://localhost:8080/"
        },
        "id": "Q1SgLHsPebH7",
        "outputId": "b8937ea6-74bd-4d38-9859-399dfc2615f4"
      },
      "execution_count": null,
      "outputs": [
        {
          "output_type": "stream",
          "name": "stdout",
          "text": [
            "1\n",
            "2\n",
            "3\n",
            "4\n"
          ]
        }
      ]
    },
    {
      "cell_type": "code",
      "source": [
        "sum = 0\n",
        "for i in range(1,101,5):\n",
        "  sum = sum + i\n",
        "print(sum)"
      ],
      "metadata": {
        "colab": {
          "base_uri": "https://localhost:8080/"
        },
        "id": "ErZbWK6Og9u1",
        "outputId": "daf46f38-cf6b-4700-ed4e-bf8f32d28691"
      },
      "execution_count": null,
      "outputs": [
        {
          "output_type": "stream",
          "name": "stdout",
          "text": [
            "970\n"
          ]
        }
      ]
    },
    {
      "cell_type": "code",
      "source": [
        "sum=0\n",
        "for i in range(1,1002,5):\n",
        "  sum=sum+i\n",
        "print(sum)"
      ],
      "metadata": {
        "colab": {
          "base_uri": "https://localhost:8080/"
        },
        "id": "S8hVuSi-iMI2",
        "outputId": "8d23163d-07f3-42c7-ed3d-f7001fb06a2a"
      },
      "execution_count": null,
      "outputs": [
        {
          "output_type": "stream",
          "name": "stdout",
          "text": [
            "100701\n"
          ]
        }
      ]
    },
    {
      "cell_type": "code",
      "source": [
        "fit=1\n",
        "for i in range(1,11):\n",
        "  fit=fit*i\n",
        "print(fit)"
      ],
      "metadata": {
        "colab": {
          "base_uri": "https://localhost:8080/"
        },
        "id": "OnQ2Xy0ykaKL",
        "outputId": "6e02ce38-ff43-483c-bfa3-fcf3c524c2eb"
      },
      "execution_count": null,
      "outputs": [
        {
          "output_type": "stream",
          "name": "stdout",
          "text": [
            "3628800\n"
          ]
        }
      ]
    },
    {
      "cell_type": "code",
      "source": [
        "a,b= 5,10\n",
        "a=a+b\n",
        "b=a-b\n",
        "a=a-b\n",
        "print(a)\n",
        "print(b)"
      ],
      "metadata": {
        "colab": {
          "base_uri": "https://localhost:8080/"
        },
        "id": "2Zqh927RlMFt",
        "outputId": "0ca5b1db-14ca-4443-c1c9-790ef2e7e2d2"
      },
      "execution_count": null,
      "outputs": [
        {
          "output_type": "stream",
          "name": "stdout",
          "text": [
            "10\n",
            "5\n"
          ]
        }
      ]
    },
    {
      "cell_type": "code",
      "source": [
        "n= int(input(\"number of trem find = \"))\n",
        "first= 0\n",
        "second=1\n",
        "print(first)\n",
        "print(second)\n",
        "for third in range(2,n+1):\n",
        "  third=first+second\n",
        "  first=second\n",
        "  second=third\n",
        "  print(third)\n"
      ],
      "metadata": {
        "colab": {
          "base_uri": "https://localhost:8080/"
        },
        "id": "JNrXQNvynqIR",
        "outputId": "00ea8439-991e-4368-d457-5873abc05906"
      },
      "execution_count": null,
      "outputs": [
        {
          "output_type": "stream",
          "name": "stdout",
          "text": [
            "number of trem find = 10\n",
            "0\n",
            "1\n",
            "1\n",
            "2\n",
            "3\n",
            "5\n",
            "8\n",
            "13\n",
            "21\n",
            "34\n",
            "55\n"
          ]
        }
      ]
    },
    {
      "cell_type": "code",
      "source": [
        "fectorial=1\n",
        "sum=0\n",
        "for i in range(1,11):\n",
        "  fectorial=fectorial*i\n",
        "  sum=sum+fectorial\n",
        "  print(fectorial)\n",
        "print(f\"total sum= {sum}\")"
      ],
      "metadata": {
        "colab": {
          "base_uri": "https://localhost:8080/"
        },
        "id": "MfcGFlMpqUk9",
        "outputId": "356735d5-03d1-4da0-bc0b-62312c6055fa"
      },
      "execution_count": null,
      "outputs": [
        {
          "output_type": "stream",
          "name": "stdout",
          "text": [
            "1\n",
            "2\n",
            "6\n",
            "24\n",
            "120\n",
            "720\n",
            "5040\n",
            "40320\n",
            "362880\n",
            "3628800\n",
            "total sum= 4037913\n"
          ]
        }
      ]
    },
    {
      "cell_type": "code",
      "source": [
        "num= \"583256\"\n",
        "print(num[::-1])"
      ],
      "metadata": {
        "colab": {
          "base_uri": "https://localhost:8080/"
        },
        "id": "qeIjHrjEvpwx",
        "outputId": "42aa871b-ba70-4f44-839d-2f92f925213e"
      },
      "execution_count": null,
      "outputs": [
        {
          "output_type": "stream",
          "name": "stdout",
          "text": [
            "652385\n"
          ]
        }
      ]
    },
    {
      "cell_type": "code",
      "source": [
        "num=int(583256)\n",
        "sum=0\n",
        "while num > 0:\n",
        "  sep= num%10\n",
        "  num=int(num/10)\n",
        "  sum=sum+sep\n",
        "print(sum)\n",
        "\n"
      ],
      "metadata": {
        "colab": {
          "base_uri": "https://localhost:8080/"
        },
        "id": "e9nPrEkTxfc1",
        "outputId": "bf1c7116-56f9-4cc5-de1c-47581b0297e8"
      },
      "execution_count": null,
      "outputs": [
        {
          "output_type": "stream",
          "name": "stdout",
          "text": [
            "29\n"
          ]
        }
      ]
    },
    {
      "cell_type": "code",
      "source": [
        "def num(n):\n",
        "  sum=0\n",
        "  while n > 0:\n",
        "    sep= n%10\n",
        "    n=int(n/10)\n",
        "    sum=sum+sep\n",
        "  return sum\n",
        "print(num(64))"
      ],
      "metadata": {
        "colab": {
          "base_uri": "https://localhost:8080/"
        },
        "id": "GVyKAo632UGR",
        "outputId": "4b752b42-5d8a-41bd-ccf5-d4099ccc1b17"
      },
      "execution_count": null,
      "outputs": [
        {
          "output_type": "stream",
          "name": "stdout",
          "text": [
            "10\n"
          ]
        }
      ]
    },
    {
      "cell_type": "code",
      "source": [
        "def sumOfFactorial(n):\n",
        "  fectorial =1\n",
        "  sum=0\n",
        "  for i in range(1,n+1):\n",
        "    fectorial= fectorial*i\n",
        "    sum= sum+fectorial\n",
        "  return sum\n",
        "print(sumOfFactorial(5))"
      ],
      "metadata": {
        "colab": {
          "base_uri": "https://localhost:8080/"
        },
        "id": "RYZ-xJii3jhD",
        "outputId": "dab77405-a8ad-4507-a13a-7b70ac9a6360"
      },
      "execution_count": null,
      "outputs": [
        {
          "output_type": "stream",
          "name": "stdout",
          "text": [
            "153\n"
          ]
        }
      ]
    },
    {
      "cell_type": "code",
      "source": [
        "def sumOfFactorial(n):\n",
        "  fectorial =1\n",
        "  sum=0\n",
        "  for i in range(1,n+1):\n",
        "\n",
        "    fectorial= fectorial*i\n",
        "    print(fectorial)\n",
        "    fectorial += 2\n",
        "    sum= sum+fectorial\n",
        "  return sum\n",
        "  print()\n",
        "print(sumOfFactorial(5))"
      ],
      "metadata": {
        "colab": {
          "base_uri": "https://localhost:8080/"
        },
        "id": "bm_Wfv8f5q6_",
        "outputId": "123a1de3-1843-46ee-b269-7a91a59958fa"
      },
      "execution_count": null,
      "outputs": [
        {
          "output_type": "stream",
          "name": "stdout",
          "text": [
            "1\n",
            "6\n",
            "24\n",
            "104\n",
            "530\n",
            "675\n"
          ]
        }
      ]
    },
    {
      "cell_type": "code",
      "source": [
        "def lastNum(n):\n",
        "  fectorial =1\n",
        "  single=0\n",
        "  finalsum = 0\n",
        "  final =0\n",
        "  for j in range(1,n+1):\n",
        "    for i in range(1,11,+2):\n",
        "    final=fectorial*i\n",
        "    print(final)\n"
      ],
      "metadata": {
        "colab": {
          "base_uri": "https://localhost:8080/",
          "height": 108
        },
        "id": "6h8fSawl7GY1",
        "outputId": "6774bd42-cf19-4d9e-c452-f6a25a3a45da"
      },
      "execution_count": null,
      "outputs": [
        {
          "output_type": "error",
          "ename": "IndentationError",
          "evalue": "expected an indented block after 'for' statement on line 7 (ipython-input-3954891145.py, line 8)",
          "traceback": [
            "\u001b[0;36m  File \u001b[0;32m\"/tmp/ipython-input-3954891145.py\"\u001b[0;36m, line \u001b[0;32m8\u001b[0m\n\u001b[0;31m    final=fectorial*i\u001b[0m\n\u001b[0m    ^\u001b[0m\n\u001b[0;31mIndentationError\u001b[0m\u001b[0;31m:\u001b[0m expected an indented block after 'for' statement on line 7\n"
          ]
        }
      ]
    },
    {
      "cell_type": "code",
      "source": [
        "from typing_extensions import final\n",
        "def lastnum(n):\n",
        "  sum=0\n",
        "  for i in range(1,n+1,+2):\n",
        "   fectorial = 1\n",
        "   for j in range(1,i+1):\n",
        "    fectorial=fectorial*i\n",
        "  return fectorial\n",
        "print(lastnum(5))\n",
        "#  sum = sum+final\n",
        "# print(sum)\n"
      ],
      "metadata": {
        "colab": {
          "base_uri": "https://localhost:8080/"
        },
        "id": "IQ-CVPME-Nvs",
        "outputId": "6d1057f1-4c35-4f84-b26e-f101e8bda978"
      },
      "execution_count": 1,
      "outputs": [
        {
          "output_type": "stream",
          "name": "stdout",
          "text": [
            "3125\n"
          ]
        }
      ]
    },
    {
      "cell_type": "code",
      "source": [],
      "metadata": {
        "id": "zufhx0KkF1D1"
      },
      "execution_count": null,
      "outputs": []
    }
  ]
}