{
  "nbformat": 4,
  "nbformat_minor": 0,
  "metadata": {
    "colab": {
      "provenance": [],
      "authorship_tag": "ABX9TyPVrnIMHAgDUpgzm1uYjZp1",
      "include_colab_link": true
    },
    "kernelspec": {
      "name": "python3",
      "display_name": "Python 3"
    },
    "language_info": {
      "name": "python"
    }
  },
  "cells": [
    {
      "cell_type": "markdown",
      "metadata": {
        "id": "view-in-github",
        "colab_type": "text"
      },
      "source": [
        "<a href=\"https://colab.research.google.com/github/Harry7477/Harrys.innovations/blob/main/ALL%20IN%20ONE.ipynb\" target=\"_parent\"><img src=\"https://colab.research.google.com/assets/colab-badge.svg\" alt=\"Open In Colab\"/></a>"
      ]
    },
    {
      "cell_type": "code",
      "execution_count": 62,
      "metadata": {
        "id": "qL4HzF7MHKIP",
        "colab": {
          "base_uri": "https://localhost:8080/",
          "height": 108
        },
        "outputId": "6b1246cb-cb48-49bb-9e55-2653b9c048b8"
      },
      "outputs": [
        {
          "output_type": "error",
          "ename": "SyntaxError",
          "evalue": "invalid syntax. Maybe you meant '==' or ':=' instead of '='? (ipython-input-36614822.py, line 4)",
          "traceback": [
            "\u001b[0;36m  File \u001b[0;32m\"/tmp/ipython-input-36614822.py\"\u001b[0;36m, line \u001b[0;32m4\u001b[0m\n\u001b[0;31m    if directions = 'north'\u001b[0m\n\u001b[0m       ^\u001b[0m\n\u001b[0;31mSyntaxError\u001b[0m\u001b[0;31m:\u001b[0m invalid syntax. Maybe you meant '==' or ':=' instead of '='?\n"
          ]
        }
      ],
      "source": [
        "#traffic light system\n",
        "directions = str(input(\"which side want to green = \"))\n",
        "['north', 'south', 'east', 'west']\n",
        "if directions = 'north'\n",
        "  print(\"si = red\")\n",
        "  print(\"wi = red\")\n",
        "  print(\"ei = red\")\n",
        "  print(\"wo = green\")\n",
        "  print(\"so = green\")\n",
        "  print(\"eo = green\")\n",
        "  print(\"no = green\")\n",
        "elif directions = 'south'\n",
        "  print(\"go south\")\n",
        "elif directions = 'east'\n",
        "  print(\"go east\")\n",
        "elif directions = 'west'\n",
        "  print(\"go west\"\n"
      ]
    },
    {
      "cell_type": "code",
      "source": [
        "n = 150\n",
        "d = 4\n",
        "a = 3\n",
        "an = a + (n-1)* d\n",
        "print(f\"{an}\")\n"
      ],
      "metadata": {
        "colab": {
          "base_uri": "https://localhost:8080/"
        },
        "id": "q4r0fleTaCcq",
        "outputId": "e2bbf6f4-0210-4ce7-e2e1-d4a74bbfc64d"
      },
      "execution_count": 63,
      "outputs": [
        {
          "output_type": "stream",
          "name": "stdout",
          "text": [
            "599\n"
          ]
        }
      ]
    },
    {
      "cell_type": "code",
      "source": [
        "for i in range(5):\n",
        "  print(i)"
      ],
      "metadata": {
        "colab": {
          "base_uri": "https://localhost:8080/"
        },
        "id": "9j4KSSUIdGFw",
        "outputId": "2e0cb768-4db5-4b86-d5d5-8056cc0f6dd0"
      },
      "execution_count": 64,
      "outputs": [
        {
          "output_type": "stream",
          "name": "stdout",
          "text": [
            "0\n",
            "1\n",
            "2\n",
            "3\n",
            "4\n"
          ]
        }
      ]
    },
    {
      "cell_type": "code",
      "source": [
        "for i in range(1,5):\n",
        "  print(i)"
      ],
      "metadata": {
        "colab": {
          "base_uri": "https://localhost:8080/"
        },
        "id": "Q1SgLHsPebH7",
        "outputId": "3e2556a9-3efb-42b8-d186-a03a093adb63"
      },
      "execution_count": 65,
      "outputs": [
        {
          "output_type": "stream",
          "name": "stdout",
          "text": [
            "1\n",
            "2\n",
            "3\n",
            "4\n"
          ]
        }
      ]
    },
    {
      "cell_type": "code",
      "source": [
        "sum = 0\n",
        "for i in range(1,101,5):\n",
        "  sum = sum + i\n",
        "print(sum)"
      ],
      "metadata": {
        "colab": {
          "base_uri": "https://localhost:8080/"
        },
        "id": "ErZbWK6Og9u1",
        "outputId": "3b50179f-ec8f-4c94-8af1-c2a7a661d022"
      },
      "execution_count": 66,
      "outputs": [
        {
          "output_type": "stream",
          "name": "stdout",
          "text": [
            "970\n"
          ]
        }
      ]
    },
    {
      "cell_type": "code",
      "source": [
        "sum=0\n",
        "for i in range(1,1002,5):\n",
        "  sum=sum+i\n",
        "print(sum)"
      ],
      "metadata": {
        "colab": {
          "base_uri": "https://localhost:8080/"
        },
        "id": "S8hVuSi-iMI2",
        "outputId": "83d6433d-2ccf-4471-d12d-5c2810c5e999"
      },
      "execution_count": 67,
      "outputs": [
        {
          "output_type": "stream",
          "name": "stdout",
          "text": [
            "100701\n"
          ]
        }
      ]
    },
    {
      "cell_type": "code",
      "source": [
        "fit=1\n",
        "for i in range(1,11):\n",
        "  fit=fit*i\n",
        "print(fit)"
      ],
      "metadata": {
        "colab": {
          "base_uri": "https://localhost:8080/"
        },
        "id": "OnQ2Xy0ykaKL",
        "outputId": "f98144cd-22b0-46fb-badf-87aa0814e83c"
      },
      "execution_count": 68,
      "outputs": [
        {
          "output_type": "stream",
          "name": "stdout",
          "text": [
            "3628800\n"
          ]
        }
      ]
    },
    {
      "cell_type": "code",
      "source": [
        "a,b= 5,10\n",
        "a=a+b\n",
        "b=a-b\n",
        "a=a-b\n",
        "print(a)\n",
        "print(b)"
      ],
      "metadata": {
        "colab": {
          "base_uri": "https://localhost:8080/"
        },
        "id": "2Zqh927RlMFt",
        "outputId": "2090e536-8ef9-46b3-b79c-41a8ddbfe427"
      },
      "execution_count": 69,
      "outputs": [
        {
          "output_type": "stream",
          "name": "stdout",
          "text": [
            "10\n",
            "5\n"
          ]
        }
      ]
    },
    {
      "cell_type": "code",
      "source": [
        "fectorial=1\n",
        "sum=0\n",
        "for i in range(1,11):\n",
        "  fectorial=fectorial*i\n",
        "  sum=sum+fectorial\n",
        "  print(fectorial)\n",
        "print(f\"total sum= {sum}\")"
      ],
      "metadata": {
        "colab": {
          "base_uri": "https://localhost:8080/"
        },
        "id": "MfcGFlMpqUk9",
        "outputId": "b1122e2d-9682-40ae-8bc6-3aea14678be5"
      },
      "execution_count": 71,
      "outputs": [
        {
          "output_type": "stream",
          "name": "stdout",
          "text": [
            "1\n",
            "2\n",
            "6\n",
            "24\n",
            "120\n",
            "720\n",
            "5040\n",
            "40320\n",
            "362880\n",
            "3628800\n",
            "total sum= 4037913\n"
          ]
        }
      ]
    },
    {
      "cell_type": "code",
      "source": [
        "num= \"583256\"\n",
        "print(num[::-1])"
      ],
      "metadata": {
        "colab": {
          "base_uri": "https://localhost:8080/"
        },
        "id": "qeIjHrjEvpwx",
        "outputId": "b63d0f36-dd62-4075-882d-caa4772ac110"
      },
      "execution_count": 72,
      "outputs": [
        {
          "output_type": "stream",
          "name": "stdout",
          "text": [
            "652385\n"
          ]
        }
      ]
    },
    {
      "cell_type": "code",
      "source": [
        "num=int(583256)\n",
        "sum=0\n",
        "while num > 0:\n",
        "  sep= num%10\n",
        "  num=int(num/10)\n",
        "  sum=sum+sep\n",
        "print(sum)\n",
        "\n"
      ],
      "metadata": {
        "colab": {
          "base_uri": "https://localhost:8080/"
        },
        "id": "e9nPrEkTxfc1",
        "outputId": "31cab207-34db-4c0d-a858-fbfdc568399e"
      },
      "execution_count": 73,
      "outputs": [
        {
          "output_type": "stream",
          "name": "stdout",
          "text": [
            "29\n"
          ]
        }
      ]
    },
    {
      "cell_type": "code",
      "source": [
        "def num(n):\n",
        "  sum=0\n",
        "  while n > 0:\n",
        "    sep= n%10\n",
        "    n=int(n/10)\n",
        "    sum=sum+sep\n",
        "  return sum\n",
        "print(num(64))"
      ],
      "metadata": {
        "colab": {
          "base_uri": "https://localhost:8080/"
        },
        "id": "GVyKAo632UGR",
        "outputId": "854e6caa-3f12-4d3c-c663-4ccfd735f207"
      },
      "execution_count": 74,
      "outputs": [
        {
          "output_type": "stream",
          "name": "stdout",
          "text": [
            "10\n"
          ]
        }
      ]
    },
    {
      "cell_type": "code",
      "source": [
        "def sumOfFactorial(n):\n",
        "  fectorial =1\n",
        "  sum=0\n",
        "  for i in range(1,n+1):\n",
        "    fectorial= fectorial*i\n",
        "    sum= sum+fectorial\n",
        "  return sum\n",
        "print(sumOfFactorial(5))"
      ],
      "metadata": {
        "colab": {
          "base_uri": "https://localhost:8080/"
        },
        "id": "RYZ-xJii3jhD",
        "outputId": "79459fd0-d271-41d3-b95b-72fa6877e841"
      },
      "execution_count": 75,
      "outputs": [
        {
          "output_type": "stream",
          "name": "stdout",
          "text": [
            "153\n"
          ]
        }
      ]
    },
    {
      "cell_type": "code",
      "source": [
        "def sumOfFactorial(n):\n",
        "  fectorial =1\n",
        "  sum=0\n",
        "  for i in range(1,n+1):\n",
        "\n",
        "    fectorial= fectorial*i\n",
        "    print(fectorial)\n",
        "    fectorial += 2\n",
        "    sum= sum+fectorial\n",
        "  return sum\n",
        "  print()\n",
        "print(sumOfFactorial(5))"
      ],
      "metadata": {
        "colab": {
          "base_uri": "https://localhost:8080/"
        },
        "id": "bm_Wfv8f5q6_",
        "outputId": "522cd895-7a09-4a44-bef0-ae3eedaafbb1"
      },
      "execution_count": 76,
      "outputs": [
        {
          "output_type": "stream",
          "name": "stdout",
          "text": [
            "1\n",
            "6\n",
            "24\n",
            "104\n",
            "530\n",
            "675\n"
          ]
        }
      ]
    },
    {
      "cell_type": "code",
      "source": [
        "def lastNum(n):\n",
        "  fectorial =1\n",
        "  single=0\n",
        "  finalsum = 0\n",
        "  final =0\n",
        "  for j in range(1,n+1):\n",
        "    for i in range(1,11,+2):\n",
        "    final=fectorial*i\n",
        "    print(final)\n"
      ],
      "metadata": {
        "colab": {
          "base_uri": "https://localhost:8080/",
          "height": 108
        },
        "id": "6h8fSawl7GY1",
        "outputId": "3dfd9107-2e56-4275-a110-4722a5561af1"
      },
      "execution_count": 77,
      "outputs": [
        {
          "output_type": "error",
          "ename": "IndentationError",
          "evalue": "expected an indented block after 'for' statement on line 7 (ipython-input-3954891145.py, line 8)",
          "traceback": [
            "\u001b[0;36m  File \u001b[0;32m\"/tmp/ipython-input-3954891145.py\"\u001b[0;36m, line \u001b[0;32m8\u001b[0m\n\u001b[0;31m    final=fectorial*i\u001b[0m\n\u001b[0m    ^\u001b[0m\n\u001b[0;31mIndentationError\u001b[0m\u001b[0;31m:\u001b[0m expected an indented block after 'for' statement on line 7\n"
          ]
        }
      ]
    },
    {
      "cell_type": "code",
      "source": [
        "from typing_extensions import final\n",
        "def lastnum(n):\n",
        "  sum=0\n",
        "  for i in range(1,n+1,+2):\n",
        "   fectorial = 1\n",
        "   for j in range(1,i+1):\n",
        "    fectorial=fectorial*i\n",
        "  return fectorial\n",
        "print(lastnum(5))\n",
        "#  sum = sum+final\n",
        "# print(sum)\n"
      ],
      "metadata": {
        "id": "IQ-CVPME-Nvs"
      },
      "execution_count": null,
      "outputs": []
    },
    {
      "cell_type": "code",
      "source": [
        "for i in range(1, 22, 2):\n",
        "\n",
        "  print(i)"
      ],
      "metadata": {
        "id": "zufhx0KkF1D1"
      },
      "execution_count": null,
      "outputs": []
    },
    {
      "cell_type": "code",
      "source": [
        "a= 289\n",
        "b= 187\n",
        "hcf=0\n",
        "print(f\"your first no is = {a}\")\n",
        "print(f\"your second no is = {b}\")\n",
        "if a<b:\n",
        "  small = b\n",
        "else:\n",
        "  small = a\n",
        "for i in range(1,small+1):\n",
        "  if i%small == 0:\n",
        "     hcf = i\n",
        "print(f\"your HCF is = {hcf}\")\n"
      ],
      "metadata": {
        "id": "_G0GMkAEi8Rj"
      },
      "execution_count": null,
      "outputs": []
    },
    {
      "cell_type": "code",
      "source": [
        "a= int(input(\"\"))\n",
        "b= 20\n",
        "lcm=0\n",
        "lowest=0\n",
        "\n",
        "print(f\"your first no is = {a}\")\n",
        "print(f\"your second no is = {b}\")\n",
        "if a>b:\n",
        "  gretest = b\n",
        "else:\n",
        "  gretest = a\n",
        "for i in range(gretest,a*b+1):\n",
        "  if i%a == 0 and i%b ==0:\n",
        "    lowest=i\n",
        "    if lowest < i:\n",
        "      pass\n",
        "    print(lcm)"
      ],
      "metadata": {
        "id": "jKUC4FA3rgNy"
      },
      "execution_count": null,
      "outputs": []
    },
    {
      "cell_type": "code",
      "source": [
        "def fect(n):\n",
        "  if n == 0 or n == 1:\n",
        "    return 1\n",
        "  else:\n",
        "    return n*fect(n-1)\n",
        "fect(5)"
      ],
      "metadata": {
        "id": "ZvS1-xti0W22"
      },
      "execution_count": null,
      "outputs": []
    },
    {
      "cell_type": "code",
      "source": [
        "def feb(n):\n",
        "  if n<=0:\n",
        "    return 0\n",
        "  elif n==1:\n",
        "    return 1\n",
        "  else:\n",
        "    return feb(n-1)+feb(n-2)\n",
        "\n",
        "n = int(input(\"enter number =\"))\n",
        "for i in range(n):\n",
        "  print(feb(i))\n",
        "feb(n)"
      ],
      "metadata": {
        "id": "7SpB4yil7sPv"
      },
      "execution_count": null,
      "outputs": []
    },
    {
      "cell_type": "code",
      "source": [
        "name = \"harwinder\"\n",
        "for i in name:\n",
        "  print(i)"
      ],
      "metadata": {
        "id": "F4EDOjn79ort"
      },
      "execution_count": null,
      "outputs": []
    },
    {
      "cell_type": "code",
      "source": [
        "name= \"harwinder\"\n",
        "if 'w'in name:\n",
        "  print(\"yes\")\n",
        "else:\n",
        "  print(\"no\")"
      ],
      "metadata": {
        "id": "10A6AtEu_8TF"
      },
      "execution_count": null,
      "outputs": []
    },
    {
      "cell_type": "code",
      "source": [
        "#how to remove spacing\n",
        "name= \" H a r w i n d e r \"\n",
        "print(name.replace(\" \",\"\"))\n",
        "print(name.strip())\n",
        "print(name)"
      ],
      "metadata": {
        "id": "jBkux4InADHj"
      },
      "execution_count": null,
      "outputs": []
    },
    {
      "cell_type": "code",
      "source": [
        "# how to add 2 strings\n",
        "first_name=\"Harwinder\"\n",
        "second_name=\"Singh\"\n",
        "print(first_name + \" \" + second_name)"
      ],
      "metadata": {
        "id": "yjHlFT5MBrAj"
      },
      "execution_count": null,
      "outputs": []
    },
    {
      "cell_type": "code",
      "source": [
        "#how to filter by name\n",
        "states =\"Punjab\"\n",
        "print(states.startswith(\"P\"))\n",
        "print(states.endswith(\"jab\"))"
      ],
      "metadata": {
        "id": "EkDYNQg1CLcA"
      },
      "execution_count": null,
      "outputs": []
    },
    {
      "cell_type": "code",
      "source": [
        "#checking pelloin drown\n",
        "name= input(\"enter you want to check = \")\n",
        "rever_of_name = name[::-1]\n",
        "if name == rever_of_name:\n",
        "  print(f\"yes its a palloin drown = {rever_of_name}\")\n",
        "  divied= int(name)/5\n",
        "  print(divied)\n",
        "else:\n",
        "  print(f\"no its not palloin drown\")"
      ],
      "metadata": {
        "id": "V7c5CNqsDEE6"
      },
      "execution_count": null,
      "outputs": []
    },
    {
      "cell_type": "code",
      "source": [
        "#name no sidha putha kime karna\n",
        "name= \"harwinder\"\n",
        "for char in name:\n",
        "  print(char)\n",
        "  #sidha= sidha+char\n",
        "  putha= char+putha\n",
        "#print(sidha)\n",
        "print(putha)"
      ],
      "metadata": {
        "id": "a0TM_M44jTcR"
      },
      "execution_count": null,
      "outputs": []
    },
    {
      "cell_type": "code",
      "source": [
        "name = input(\"Input = \")\n",
        "x= input(\"what you wnt to find = \")\n",
        "count= 0\n",
        "for check in name:\n",
        "  if check == x:\n",
        "    count= count+1\n",
        "print(count)"
      ],
      "metadata": {
        "id": "yfPvK71SlP1a"
      },
      "execution_count": null,
      "outputs": []
    }
  ]
}