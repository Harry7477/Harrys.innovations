{
  "nbformat": 4,
  "nbformat_minor": 0,
  "metadata": {
    "colab": {
      "provenance": [],
      "authorship_tag": "ABX9TyNCTMrzWKySMAuwUpQ5oAaL",
      "include_colab_link": true
    },
    "kernelspec": {
      "name": "python3",
      "display_name": "Python 3"
    },
    "language_info": {
      "name": "python"
    }
  },
  "cells": [
    {
      "cell_type": "markdown",
      "metadata": {
        "id": "view-in-github",
        "colab_type": "text"
      },
      "source": [
        "<a href=\"https://colab.research.google.com/github/Harry7477/Harrys.innovations/blob/main/interst%20calculator.ipynb\" target=\"_parent\"><img src=\"https://colab.research.google.com/assets/colab-badge.svg\" alt=\"Open In Colab\"/></a>"
      ]
    },
    {
      "cell_type": "code",
      "execution_count": 17,
      "metadata": {
        "colab": {
          "base_uri": "https://localhost:8080/"
        },
        "id": "iLiwsBTfckOj",
        "outputId": "2a7b6e32-286b-444d-c142-6dd2a9d92a79"
      },
      "outputs": [
        {
          "output_type": "stream",
          "name": "stdout",
          "text": [
            "314.2857142857143\n"
          ]
        }
      ],
      "source": [
        "pi = 22/7\n",
        "r = 10\n",
        "full = pi * (r*r)\n",
        "print (full)"
      ]
    },
    {
      "cell_type": "code",
      "source": [],
      "metadata": {
        "id": "8NdNok9riRB2"
      },
      "execution_count": null,
      "outputs": []
    },
    {
      "cell_type": "code",
      "source": [
        "pi = 22/7\n",
        "r = 10\n",
        "peramiter = 2* (pi*r)\n",
        "print(peramiter)"
      ],
      "metadata": {
        "colab": {
          "base_uri": "https://localhost:8080/"
        },
        "id": "WPzBByB8guoN",
        "outputId": "ac7f1c00-7c13-4cb8-bb96-453a39892778"
      },
      "execution_count": 16,
      "outputs": [
        {
          "output_type": "stream",
          "name": "stdout",
          "text": [
            "62.857142857142854\n"
          ]
        }
      ]
    },
    {
      "cell_type": "code",
      "source": [
        "# Principal = 5000\n",
        "# time = 1\n",
        "# interst = 5\n",
        "# #calculate interest\n",
        "# calinterst= time* (interst*Principal/100)\n",
        "# grandtotal = Principal+calinterst\n",
        "# print(f\"your principal amount is {Principal}\")\n",
        "# print(f\"your monthly interst is {interst}\")\n",
        "# print(f\"total duration (in months)=  {time}\")\n",
        "# print(f\"interst is {calinterst}\")\n",
        "# print(f\"your total amount = {grandtotal}\")"
      ],
      "metadata": {
        "colab": {
          "base_uri": "https://localhost:8080/"
        },
        "id": "ZZSDWKGShmIG",
        "outputId": "44dad7f1-b9c6-4b0e-edc5-6e42735e1fa6"
      },
      "execution_count": 32,
      "outputs": [
        {
          "output_type": "stream",
          "name": "stdout",
          "text": [
            "your principal amount is 5000\n",
            "your monthly interst is 5\n",
            "total duration (in months)=  1\n",
            "interst is 250.0\n",
            "your total amount = 5250.0\n"
          ]
        }
      ]
    },
    {
      "cell_type": "code",
      "source": [
        "principal= int(input(\"Enter the Principal amount = \"))\n",
        "print(\"calculate intest\")\n",
        "year= int(input(\"enter year = \"))\n",
        "month= int(input(\"enter month = \"))\n",
        "days = int(input(\"enter days = \"))\n",
        "interst = float(input(\"enter the percentage  of the interst (anualy) = \"))\n",
        "yearToDays = 365*year\n",
        "monthToday = (28*month)\n",
        "time =yearToDays + monthToday + days\n",
        "interstchange= interst/365\n",
        "calinterst= time* (interstchange* principal/100)\n",
        "grandtotal = principal+calinterst\n",
        "print(f\"your principal amount is {principal}\")\n",
        "print(f\"your interst is {year} years {month} months {days} days\")\n",
        "print(f\"total duration (in days)= {time}days\")\n",
        "print(f\"interst is = {calinterst}\")\n",
        "print(f\"your total amount = {grandtotal}\")"
      ],
      "metadata": {
        "colab": {
          "base_uri": "https://localhost:8080/"
        },
        "id": "jpGHWD--mqMn",
        "outputId": "cf999be8-1d85-4d36-b27d-913d746c8fd3"
      },
      "execution_count": 52,
      "outputs": [
        {
          "output_type": "stream",
          "name": "stdout",
          "text": [
            "Enter the Principal amount = 10000\n",
            "calculate intest\n",
            "enter year = 1\n",
            "enter month = 4\n",
            "enter days = 30\n",
            "enter the percentage  of the interst (anualy) = 10\n",
            "your principal amount is 10000\n",
            "your interst is 1 years 4 months 30 days\n",
            "total duration (in days)= 507\n",
            "interst is = 1389.0410958904108\n",
            "your total amount = 11389.04109589041\n"
          ]
        }
      ]
    }
  ]
}